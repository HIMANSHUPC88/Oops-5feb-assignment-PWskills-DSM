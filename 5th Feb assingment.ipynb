{
 "cells": [
  {
   "cell_type": "markdown",
   "id": "1e15ccae-1bb9-4465-92d5-73d7e15c765f",
   "metadata": {},
   "source": [
    "Q1. Explain Class and Object with respect to Object-Oriented Programming. Give a suitable example."
   ]
  },
  {
   "cell_type": "code",
   "execution_count": 7,
   "id": "e104be08-ad11-4ce0-bb13-8514d33685c1",
   "metadata": {},
   "outputs": [],
   "source": [
    "# Class = A class is the collection of Object . Class is a Blueprint or a Prototype from which the Object are being created. \n",
    "# Object = An Object is an Entity which have state and Behaviour associated with it . it may be a living word entity .\n",
    "\n",
    "#class example\n",
    "class Dog:\n",
    "    pass\n",
    "#Object example\n",
    "Object = Dog()\n",
    "# Answer 1 completed"
   ]
  },
  {
   "cell_type": "markdown",
   "id": "92ef68e7-dfbd-499c-942e-4520b3fb053a",
   "metadata": {},
   "source": [
    "Q2. Name the four pillars of OOPs."
   ]
  },
  {
   "cell_type": "raw",
   "id": "ce13540a-d3b6-4602-8ecd-339a07bb4c6b",
   "metadata": {},
   "source": [
    "Inharitance , polymorphisum , Encapsulation , Abstraction \n",
    "#Answer 2 completed"
   ]
  },
  {
   "cell_type": "markdown",
   "id": "4c6379cd-72db-4997-9fdd-8a21f78aa330",
   "metadata": {},
   "source": [
    "Q3. Explain why the __init__() function is used. Give a suitable example."
   ]
  },
  {
   "cell_type": "markdown",
   "id": "478d98d3-6c11-44c0-8262-55378b4e7798",
   "metadata": {},
   "source": [
    "We use init method to ensure that the object is created with the correct  initial state\n",
    "init function is used to store Object details .\n",
    "Answer 3 completed"
   ]
  },
  {
   "cell_type": "markdown",
   "id": "0bdd8201-0f33-4a4a-8d03-5a1f4ea657f9",
   "metadata": {},
   "source": [
    "Q4. Why self is used in OOPs?"
   ]
  },
  {
   "cell_type": "markdown",
   "id": "c24f3312-6929-4fa5-b2f0-987220edeb75",
   "metadata": {},
   "source": [
    "To Access ,To Define  and Intract the variable and function in the class use self in python .\n",
    "Answer 4 completed"
   ]
  },
  {
   "cell_type": "markdown",
   "id": "7fe4a0da-1862-4823-9592-7c4826ee0c14",
   "metadata": {},
   "source": [
    "Q5. What is inheritance? Give an example for each type of inheritance."
   ]
  },
  {
   "cell_type": "markdown",
   "id": "5f44009e-f0bf-4271-ae78-dab1e7b4ad60",
   "metadata": {},
   "source": [
    "Inheritance is the fundamental concept of object oriented programming. it allows us to make a new class which have same propreties like another class . it is called inharitance .\n",
    "it have 3 types -"
   ]
  },
  {
   "cell_type": "code",
   "execution_count": 20,
   "id": "0ce30c77-1c84-4889-acbf-3884ef69db37",
   "metadata": {},
   "outputs": [
    {
     "name": "stdout",
     "output_type": "stream",
     "text": [
      "Woof !\n"
     ]
    }
   ],
   "source": [
    "#Single inharitance \n",
    "class Animal:\n",
    "    def __init__(self,name):\n",
    "        self.name = name \n",
    "        \n",
    "    def speak(self):\n",
    "        print(\"\")\n",
    "    \n",
    "class Dog (Animal):\n",
    "    def speak(self):\n",
    "        print(\"Woof !\")\n",
    "        \n",
    "my_dog = Dog(\"\")\n",
    "my_dog.speak()"
   ]
  },
  {
   "cell_type": "code",
   "execution_count": 21,
   "id": "f967e337-28a5-4b4b-b245-94ff46404dfe",
   "metadata": {},
   "outputs": [
    {
     "name": "stdout",
     "output_type": "stream",
     "text": [
      "WOof !\n",
      "runs\n"
     ]
    }
   ],
   "source": [
    "# Multilevel inharitance \n",
    "class Animal:\n",
    "    def __init__(self,name):\n",
    "        self.name = name\n",
    "\n",
    "def speak(self):\n",
    "    print(\"\")\n",
    "\n",
    "class Mammal(Animal):\n",
    "    def run (self):\n",
    "        print(f\"{self.name}runs\")\n",
    "\n",
    "class Dog(Mammal):\n",
    "    def speak(self):\n",
    "        print(\"WOof !\")\n",
    "        \n",
    "my_dog = Dog(\"\")\n",
    "my_dog.speak()\n",
    "my_dog.run()"
   ]
  },
  {
   "cell_type": "code",
   "execution_count": 22,
   "id": "d96a48ae-45ae-407c-8cbb-1c1bb630e9ce",
   "metadata": {},
   "outputs": [
    {
     "name": "stdout",
     "output_type": "stream",
     "text": [
      "Quark !\n",
      "Donald flies\n",
      "Donald swims\n"
     ]
    }
   ],
   "source": [
    "#Multiple Inharitance\n",
    "class Flyer:\n",
    "    def fly(self):\n",
    "        print(f\"{self.name} flies\")\n",
    "        \n",
    "class Swimmer:\n",
    "    def swim(self):\n",
    "        print(f\"{self.name} swims\")\n",
    "        \n",
    "class Duck(Flyer, Swimmer):\n",
    "    def __init__(self,name):\n",
    "        self.name = name\n",
    "        \n",
    "    def speak(self):\n",
    "        print(\"Quark !\")\n",
    "\n",
    "my_duck = Duck(\"Donald\")\n",
    "my_duck.speak()\n",
    "my_duck.fly()\n",
    "my_duck.swim()"
   ]
  },
  {
   "cell_type": "markdown",
   "id": "df7dd3e6-e80b-473f-9aad-8cf9fdea481d",
   "metadata": {},
   "source": [
    "Answer 5 completed"
   ]
  }
 ],
 "metadata": {
  "kernelspec": {
   "display_name": "Python 3 (ipykernel)",
   "language": "python",
   "name": "python3"
  },
  "language_info": {
   "codemirror_mode": {
    "name": "ipython",
    "version": 3
   },
   "file_extension": ".py",
   "mimetype": "text/x-python",
   "name": "python",
   "nbconvert_exporter": "python",
   "pygments_lexer": "ipython3",
   "version": "3.10.8"
  }
 },
 "nbformat": 4,
 "nbformat_minor": 5
}
